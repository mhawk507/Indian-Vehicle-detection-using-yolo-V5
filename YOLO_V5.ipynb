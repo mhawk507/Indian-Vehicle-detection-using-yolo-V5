{
 "cells": [
  {
   "cell_type": "code",
   "execution_count": 1,
   "metadata": {},
   "outputs": [
    {
     "name": "stdout",
     "output_type": "stream",
     "text": [
      "D:\\Downloads\\Chrome Downloads\\Indian-Domestic-Vehicle-Detection-main\\Indian-Domestic-Vehicle-Detection-main\\Indian vehicle detection using yolo V5\\yolov5\n"
     ]
    }
   ],
   "source": [
    "%cd ./yolov5/"
   ]
  },
  {
   "cell_type": "code",
   "execution_count": 14,
   "metadata": {},
   "outputs": [
    {
     "name": "stdout",
     "output_type": "stream",
     "text": [
      "Collecting matplotlib>=3.2.2\n",
      "  Using cached matplotlib-3.4.1-cp38-cp38-win_amd64.whl (7.1 MB)\n",
      "Collecting numpy>=1.18.5\n",
      "  Using cached numpy-1.20.2-cp38-cp38-win_amd64.whl (13.7 MB)\n",
      "Requirement already up-to-date: opencv-python>=4.1.2 in c:\\programdata\\anaconda3\\lib\\site-packages (from -r requirements.txt (line 6)) (4.5.1.48)\n",
      "Collecting Pillow\n",
      "  Using cached Pillow-8.1.2-cp38-cp38-win_amd64.whl (2.2 MB)\n",
      "Collecting PyYAML>=5.3.1\n",
      "  Using cached PyYAML-5.4.1-cp38-cp38-win_amd64.whl (213 kB)\n",
      "Collecting scipy>=1.4.1\n",
      "  Using cached scipy-1.6.2-cp38-cp38-win_amd64.whl (32.7 MB)\n",
      "Collecting torch>=1.7.0\n",
      "  Using cached torch-1.8.1-cp38-cp38-win_amd64.whl (190.5 MB)\n",
      "Collecting torchvision>=0.8.1\n",
      "  Using cached torchvision-0.9.1-cp38-cp38-win_amd64.whl (852 kB)\n",
      "Requirement already up-to-date: tqdm>=4.41.0 in c:\\users\\meet5\\appdata\\roaming\\python\\python38\\site-packages (from -r requirements.txt (line 12)) (4.59.0)\n",
      "Requirement already up-to-date: tensorboard>=2.4.1 in c:\\programdata\\anaconda3\\lib\\site-packages (from -r requirements.txt (line 15)) (2.4.1)\n",
      "Collecting seaborn>=0.11.0\n",
      "  Using cached seaborn-0.11.1-py3-none-any.whl (285 kB)\n",
      "Collecting pandas\n",
      "  Using cached pandas-1.2.3-cp38-cp38-win_amd64.whl (9.3 MB)\n",
      "Collecting thop\n",
      "  Using cached thop-0.0.31.post2005241907-py3-none-any.whl (8.7 kB)\n",
      "Requirement already up-to-date: pycocotools>=2.0 in c:\\programdata\\anaconda3\\lib\\site-packages (from -r requirements.txt (line 29)) (2.0.2)\n",
      "Requirement already satisfied, skipping upgrade: cycler>=0.10 in c:\\programdata\\anaconda3\\lib\\site-packages (from matplotlib>=3.2.2->-r requirements.txt (line 4)) (0.10.0)\n",
      "Requirement already satisfied, skipping upgrade: kiwisolver>=1.0.1 in c:\\programdata\\anaconda3\\lib\\site-packages (from matplotlib>=3.2.2->-r requirements.txt (line 4)) (1.3.0)\n",
      "Requirement already satisfied, skipping upgrade: pyparsing>=2.2.1 in c:\\programdata\\anaconda3\\lib\\site-packages (from matplotlib>=3.2.2->-r requirements.txt (line 4)) (2.4.7)\n",
      "Requirement already satisfied, skipping upgrade: python-dateutil>=2.7 in c:\\programdata\\anaconda3\\lib\\site-packages (from matplotlib>=3.2.2->-r requirements.txt (line 4)) (2.8.1)\n",
      "Requirement already satisfied, skipping upgrade: typing-extensions in c:\\programdata\\anaconda3\\lib\\site-packages (from torch>=1.7.0->-r requirements.txt (line 10)) (3.7.4.3)\n",
      "Requirement already satisfied, skipping upgrade: six>=1.10.0 in c:\\programdata\\anaconda3\\lib\\site-packages (from tensorboard>=2.4.1->-r requirements.txt (line 15)) (1.15.0)\n",
      "Requirement already satisfied, skipping upgrade: google-auth<2,>=1.6.3 in c:\\programdata\\anaconda3\\lib\\site-packages (from tensorboard>=2.4.1->-r requirements.txt (line 15)) (1.28.0)\n",
      "Requirement already satisfied, skipping upgrade: werkzeug>=0.11.15 in c:\\programdata\\anaconda3\\lib\\site-packages (from tensorboard>=2.4.1->-r requirements.txt (line 15)) (1.0.1)\n",
      "Requirement already satisfied, skipping upgrade: requests<3,>=2.21.0 in c:\\programdata\\anaconda3\\lib\\site-packages (from tensorboard>=2.4.1->-r requirements.txt (line 15)) (2.24.0)\n",
      "Requirement already satisfied, skipping upgrade: grpcio>=1.24.3 in c:\\programdata\\anaconda3\\lib\\site-packages (from tensorboard>=2.4.1->-r requirements.txt (line 15)) (1.36.1)\n",
      "Requirement already satisfied, skipping upgrade: setuptools>=41.0.0 in c:\\programdata\\anaconda3\\lib\\site-packages (from tensorboard>=2.4.1->-r requirements.txt (line 15)) (50.3.1.post20201107)\n",
      "Requirement already satisfied, skipping upgrade: wheel>=0.26; python_version >= \"3\" in c:\\programdata\\anaconda3\\lib\\site-packages (from tensorboard>=2.4.1->-r requirements.txt (line 15)) (0.35.1)\n",
      "Requirement already satisfied, skipping upgrade: absl-py>=0.4 in c:\\programdata\\anaconda3\\lib\\site-packages (from tensorboard>=2.4.1->-r requirements.txt (line 15)) (0.12.0)\n",
      "Requirement already satisfied, skipping upgrade: tensorboard-plugin-wit>=1.6.0 in c:\\programdata\\anaconda3\\lib\\site-packages (from tensorboard>=2.4.1->-r requirements.txt (line 15)) (1.8.0)\n",
      "Requirement already satisfied, skipping upgrade: protobuf>=3.6.0 in c:\\programdata\\anaconda3\\lib\\site-packages (from tensorboard>=2.4.1->-r requirements.txt (line 15)) (3.15.6)\n",
      "Requirement already satisfied, skipping upgrade: markdown>=2.6.8 in c:\\programdata\\anaconda3\\lib\\site-packages (from tensorboard>=2.4.1->-r requirements.txt (line 15)) (3.3.4)\n",
      "Requirement already satisfied, skipping upgrade: google-auth-oauthlib<0.5,>=0.4.1 in c:\\programdata\\anaconda3\\lib\\site-packages (from tensorboard>=2.4.1->-r requirements.txt (line 15)) (0.4.4)\n",
      "Requirement already satisfied, skipping upgrade: pytz>=2017.3 in c:\\programdata\\anaconda3\\lib\\site-packages (from pandas->-r requirements.txt (line 20)) (2020.1)\n",
      "Requirement already satisfied, skipping upgrade: cython>=0.27.3 in c:\\programdata\\anaconda3\\lib\\site-packages (from pycocotools>=2.0->-r requirements.txt (line 29)) (0.29.21)\n",
      "Requirement already satisfied, skipping upgrade: cachetools<5.0,>=2.0.0 in c:\\programdata\\anaconda3\\lib\\site-packages (from google-auth<2,>=1.6.3->tensorboard>=2.4.1->-r requirements.txt (line 15)) (4.2.1)\n",
      "Requirement already satisfied, skipping upgrade: pyasn1-modules>=0.2.1 in c:\\programdata\\anaconda3\\lib\\site-packages (from google-auth<2,>=1.6.3->tensorboard>=2.4.1->-r requirements.txt (line 15)) (0.2.8)\n",
      "Requirement already satisfied, skipping upgrade: rsa<5,>=3.1.4; python_version >= \"3.6\" in c:\\programdata\\anaconda3\\lib\\site-packages (from google-auth<2,>=1.6.3->tensorboard>=2.4.1->-r requirements.txt (line 15)) (4.7.2)\n",
      "Requirement already satisfied, skipping upgrade: idna<3,>=2.5 in c:\\programdata\\anaconda3\\lib\\site-packages (from requests<3,>=2.21.0->tensorboard>=2.4.1->-r requirements.txt (line 15)) (2.10)\n",
      "Requirement already satisfied, skipping upgrade: certifi>=2017.4.17 in c:\\programdata\\anaconda3\\lib\\site-packages (from requests<3,>=2.21.0->tensorboard>=2.4.1->-r requirements.txt (line 15)) (2020.6.20)\n",
      "Requirement already satisfied, skipping upgrade: urllib3!=1.25.0,!=1.25.1,<1.26,>=1.21.1 in c:\\programdata\\anaconda3\\lib\\site-packages (from requests<3,>=2.21.0->tensorboard>=2.4.1->-r requirements.txt (line 15)) (1.25.11)\n",
      "Requirement already satisfied, skipping upgrade: chardet<4,>=3.0.2 in c:\\programdata\\anaconda3\\lib\\site-packages (from requests<3,>=2.21.0->tensorboard>=2.4.1->-r requirements.txt (line 15)) (3.0.4)\n",
      "Requirement already satisfied, skipping upgrade: requests-oauthlib>=0.7.0 in c:\\programdata\\anaconda3\\lib\\site-packages (from google-auth-oauthlib<0.5,>=0.4.1->tensorboard>=2.4.1->-r requirements.txt (line 15)) (1.3.0)\n",
      "Requirement already satisfied, skipping upgrade: pyasn1<0.5.0,>=0.4.6 in c:\\programdata\\anaconda3\\lib\\site-packages (from pyasn1-modules>=0.2.1->google-auth<2,>=1.6.3->tensorboard>=2.4.1->-r requirements.txt (line 15)) (0.4.8)\n",
      "Requirement already satisfied, skipping upgrade: oauthlib>=3.0.0 in c:\\programdata\\anaconda3\\lib\\site-packages (from requests-oauthlib>=0.7.0->google-auth-oauthlib<0.5,>=0.4.1->tensorboard>=2.4.1->-r requirements.txt (line 15)) (3.1.0)\n",
      "Installing collected packages: Pillow, numpy, matplotlib, PyYAML, scipy, torch, torchvision, pandas, seaborn, thop\n",
      "Successfully installed Pillow-8.1.2 PyYAML-5.4.1 matplotlib-3.4.1 numpy-1.20.2 pandas-1.2.3 scipy-1.6.2 seaborn-0.11.1 thop-0.0.31.post2005241907 torch-1.8.1 torchvision-0.9.1\n"
     ]
    },
    {
     "name": "stderr",
     "output_type": "stream",
     "text": [
      "  WARNING: The script f2py.exe is installed in 'C:\\Users\\meet5\\AppData\\Roaming\\Python\\Python38\\Scripts' which is not on PATH.\n",
      "  Consider adding this directory to PATH or, if you prefer to suppress this warning, use --no-warn-script-location.\n",
      "  WARNING: The scripts convert-caffe2-to-onnx.exe and convert-onnx-to-caffe2.exe are installed in 'C:\\Users\\meet5\\AppData\\Roaming\\Python\\Python38\\Scripts' which is not on PATH.\n",
      "  Consider adding this directory to PATH or, if you prefer to suppress this warning, use --no-warn-script-location.\n",
      "ERROR: After October 2020 you may experience errors when installing or updating packages. This is because pip will change the way that it resolves dependency conflicts.\n",
      "\n",
      "We recommend you use --use-feature=2020-resolver to test your packages with the new resolver before it becomes the default.\n",
      "\n",
      "torchaudio 0.7.2 requires torch==1.7.1, but you'll have torch 1.8.1 which is incompatible.\n"
     ]
    }
   ],
   "source": [
    "!pip install -U -r requirements.txt --user"
   ]
  },
  {
   "cell_type": "code",
   "execution_count": 2,
   "metadata": {},
   "outputs": [],
   "source": [
    "import torch\n",
    "from IPython.display import Image "
   ]
  },
  {
   "cell_type": "markdown",
   "metadata": {},
   "source": [
    "# Training"
   ]
  },
  {
   "cell_type": "code",
   "execution_count": 5,
   "metadata": {},
   "outputs": [
    {
     "name": "stdout",
     "output_type": "stream",
     "text": [
      "^C\n"
     ]
    }
   ],
   "source": [
    "!python train.py --img 416 --batch 80 --epochs 100 --data data.yaml --cfg custom_yolo.yaml --weights ./weights/best.pt"
   ]
  },
  {
   "cell_type": "markdown",
   "metadata": {},
   "source": [
    "# Detection"
   ]
  },
  {
   "cell_type": "markdown",
   "metadata": {},
   "source": [
    "# In the --source argument give path to folder containing videos or pictures for detection or path to an image or video"
   ]
  },
  {
   "cell_type": "code",
   "execution_count": 4,
   "metadata": {},
   "outputs": [],
   "source": [
    "!python detect.py --weights ./weights/last_100.pt --img 416 --conf 0.2 --source ./testing_videos/ --save-txt"
   ]
  }
 ],
 "metadata": {
  "kernelspec": {
   "display_name": "Python 3",
   "language": "python",
   "name": "python3"
  },
  "language_info": {
   "codemirror_mode": {
    "name": "ipython",
    "version": 3
   },
   "file_extension": ".py",
   "mimetype": "text/x-python",
   "name": "python",
   "nbconvert_exporter": "python",
   "pygments_lexer": "ipython3",
   "version": "3.8.5"
  }
 },
 "nbformat": 4,
 "nbformat_minor": 4
}
